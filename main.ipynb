{
 "cells": [
  {
   "cell_type": "code",
   "execution_count": 2,
   "metadata": {},
   "outputs": [],
   "source": [
    "# 依存関係のインストール\n",
    "# VS Codeのオートフォーマッタ使うと崩れるので注意。基本はコメントアウトにしておく。\n",
    "# %pip install --upgrade -r requirements.txt\n"
   ]
  },
  {
   "cell_type": "code",
   "execution_count": 3,
   "metadata": {},
   "outputs": [],
   "source": [
    "# 設定関連\n",
    "# 環境変数の読み込み\n",
    "%load_ext dotenv\n",
    "%dotenv\n",
    "\n",
    "# すべてのモジュール再リロードする\n",
    "%load_ext autoreload\n",
    "%autoreload 2\n"
   ]
  },
  {
   "cell_type": "code",
   "execution_count": 4,
   "metadata": {},
   "outputs": [],
   "source": [
    "# imports\n",
    "from utils.openai import DSLChat\n"
   ]
  },
  {
   "cell_type": "code",
   "execution_count": 5,
   "metadata": {},
   "outputs": [],
   "source": [
    "# メッセージ構築\n",
    "chat: DSLChat = DSLChat()\n",
    "chat.append_system(\"あなたは優秀な小説家です\")\n",
    "chat.append_system(\"あなたは猫に関する小説やポエムをよく書きます\")\n",
    "chat.append_user(\"クスッと笑えるポエムを書いて\")\n"
   ]
  },
  {
   "cell_type": "code",
   "execution_count": 6,
   "metadata": {},
   "outputs": [],
   "source": [
    "# ChatGPT呼び出し\n",
    "res_content = chat.completion()\n"
   ]
  },
  {
   "cell_type": "code",
   "execution_count": 7,
   "metadata": {},
   "outputs": [
    {
     "name": "stdout",
     "output_type": "stream",
     "text": [
      "長い一日が終わり\n",
      "私の膝の上には黒猫の姿\n",
      "そんなときに限って\n",
      "お腹をすかせて鳴く\n",
      "\n",
      "私は呆れながら笑って\n",
      "「もうちょっと待ってよ」と言う\n",
      "でも猫はそれを無視して\n",
      "私の膝をクルクル回る\n",
      "\n",
      "そして何度も何度も\n",
      "「鳴かせるために飼ってるんでしょ？」\n",
      "と訴えるように鳴く\n",
      "\n",
      "私はそっと猫をなでて笑う\n",
      "この小さな命が\n",
      "私の人生を豊かにしてくれている\n",
      "\n",
      "猫との生活は決して楽ではない\n",
      "でもその笑顔は私に勇気を与えてくれる\n"
     ]
    }
   ],
   "source": [
    "# 結果出力\n",
    "print(res_content)\n"
   ]
  }
 ],
 "metadata": {
  "kernelspec": {
   "display_name": ".venv",
   "language": "python",
   "name": "python3"
  },
  "language_info": {
   "codemirror_mode": {
    "name": "ipython",
    "version": 3
   },
   "file_extension": ".py",
   "mimetype": "text/x-python",
   "name": "python",
   "nbconvert_exporter": "python",
   "pygments_lexer": "ipython3",
   "version": "3.10.6"
  },
  "orig_nbformat": 4
 },
 "nbformat": 4,
 "nbformat_minor": 2
}
